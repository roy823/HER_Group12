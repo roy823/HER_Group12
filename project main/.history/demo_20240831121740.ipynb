{
 "cells": [
  {
   "cell_type": "code",
   "execution_count": null,
   "metadata": {},
   "outputs": [],
   "source": [
    "from pymatgen.analysis.adsorption import *\n",
    "from pymatgen.core.surface import Slab, SlabGenerator, generate_all_slabs, Structure, Lattice, ReconstructionGenerator\n",
    "from pymatgen.symmetry.analyzer import SpacegroupAnalyzer\n",
    "from pymatgen.core.structure import Structure\n",
    "from pymatgen.ext.matproj import MPRester\n",
    "from matplotlib import pyplot as plt\n",
    "from pymatgen.io.vasp.inputs import Poscar\n"
   ]
  },
  {
   "cell_type": "code",
   "execution_count": null,
   "metadata": {},
   "outputs": [],
   "source": [
    "\"\"\"\n",
    "功能描述：获取Materials Project的数据测试代码，需要到Materials  project官网注册账号，获取密钥\n",
    "\"\"\"\n",
    "from pymatgen.ext.matproj import MPRester\n",
    " \n",
    "API_KEY = '7cXC8xULfZusdoLODDA'  # Materials  project官网，账号注册后提供的密钥\n",
    " \n",
    "def que_p(target):  # 分子式，比如Fe2O3\n",
    "    api_res = MPRester(API_KEY)\n",
    "    data = api_res.get_data(target, data_type='vasp')\n",
    "    return data\n",
    " \n",
    "print(que_p('Fe2O3'))#正常打印数据就表示ok！\n",
    "#切割金金属（1，1，1）面\n"
   ]
  },
  {
   "cell_type": "code",
   "execution_count": null,
   "metadata": {},
   "outputs": [],
   "source": [
    "#尝试研究一下NiP材料的数据\n",
    "mpr = MPRester(API_KEY)\n",
    "\n",
    "# Example of data collection for transition metal alloys\n",
    "data = mpr.query(criteria={\"elements\": {\"$in\": [\"P\", \"Ni\"],\"$all\":[\"P\",\"Ni\"]},'nelements' :2}, properties=[\"material_id\", \"pretty_formula\", \"structure\", \"formation_energy_per_atom\",  \"e_above_hull\",\"band_gap\"])"
   ]
  },
  {
   "cell_type": "code",
   "execution_count": null,
   "metadata": {},
   "outputs": [],
   "source": [
    "\n",
    "import pandas as pd\n",
    "df = pd.concat([pd.DataFrame(data), pd.DataFrame(pd.Series(data[0]['structure'].as_dict()))], axis=1)\n",
    "df = df[df['e_above_hull']<0.1]\n",
    "\n",
    "#存储NiP的数据\n",
    "df.to_csv('NiP.csv', index=False)"
   ]
  },
  {
   "cell_type": "code",
   "execution_count": 21,
   "metadata": {},
   "outputs": [
    {
     "ename": "ValueError",
     "evalue": "Buffer dtype mismatch, expected 'const int64_t' but got 'long'",
     "output_type": "error",
     "traceback": [
      "\u001b[1;31m---------------------------------------------------------------------------\u001b[0m",
      "\u001b[1;31mValueError\u001b[0m                                Traceback (most recent call last)",
      "Cell \u001b[1;32mIn[21], line 7\u001b[0m\n\u001b[0;32m      3\u001b[0m struct \u001b[38;5;241m=\u001b[39m SpacegroupAnalyzer(struct)\u001b[38;5;241m.\u001b[39mget_conventional_standard_structure()\n\u001b[0;32m      4\u001b[0m slab \u001b[38;5;241m=\u001b[39m SlabGenerator(struct, miller_index\u001b[38;5;241m=\u001b[39m[\u001b[38;5;241m1\u001b[39m, \u001b[38;5;241m1\u001b[39m, \u001b[38;5;241m1\u001b[39m], min_slab_size\u001b[38;5;241m=\u001b[39m\u001b[38;5;241m8.0\u001b[39m,\\\n\u001b[0;32m      5\u001b[0m                      min_vacuum_size\u001b[38;5;241m=\u001b[39m\u001b[38;5;241m15.0\u001b[39m, center_slab\u001b[38;5;241m=\u001b[39m\u001b[38;5;28;01mTrue\u001b[39;00m)\n\u001b[1;32m----> 7\u001b[0m slabs \u001b[38;5;241m=\u001b[39m slab\u001b[38;5;241m.\u001b[39mget_slabs()\u001b[38;5;241m.\u001b[39mastype(\u001b[38;5;124m'\u001b[39m\u001b[38;5;124mint64\u001b[39m\u001b[38;5;124m'\u001b[39m)\n",
      "File \u001b[1;32md:\\Anaconda\\Lib\\site-packages\\pymatgen\\core\\surface.py:1335\u001b[0m, in \u001b[0;36mSlabGenerator.get_slabs\u001b[1;34m(self, bonds, ftol, tol, max_broken_bonds, symmetrize, repair, ztol)\u001b[0m\n\u001b[0;32m   1329\u001b[0m         bonds_broken \u001b[38;5;241m+\u001b[39m\u001b[38;5;241m=\u001b[39m \u001b[38;5;241m1\u001b[39m\n\u001b[0;32m   1331\u001b[0m \u001b[38;5;66;03m# DEBUG(@DanielYang59): number of bonds broken passed to energy\u001b[39;00m\n\u001b[0;32m   1332\u001b[0m \u001b[38;5;66;03m# As per the docstring this is to sort final Slabs by number\u001b[39;00m\n\u001b[0;32m   1333\u001b[0m \u001b[38;5;66;03m# of bonds broken, but this may very likely lead to errors\u001b[39;00m\n\u001b[0;32m   1334\u001b[0m \u001b[38;5;66;03m# if the \"energy\" is used literally (Maybe reset energy to None?)\u001b[39;00m\n\u001b[1;32m-> 1335\u001b[0m slab \u001b[38;5;241m=\u001b[39m \u001b[38;5;28mself\u001b[39m\u001b[38;5;241m.\u001b[39mget_slab(shift\u001b[38;5;241m=\u001b[39mtermination, tol\u001b[38;5;241m=\u001b[39mtol, energy\u001b[38;5;241m=\u001b[39mbonds_broken)\n\u001b[0;32m   1337\u001b[0m \u001b[38;5;28;01mif\u001b[39;00m bonds_broken \u001b[38;5;241m<\u001b[39m\u001b[38;5;241m=\u001b[39m max_broken_bonds:\n\u001b[0;32m   1338\u001b[0m     slabs\u001b[38;5;241m.\u001b[39mappend(slab)\n",
      "File \u001b[1;32md:\\Anaconda\\Lib\\site-packages\\pymatgen\\core\\surface.py:1147\u001b[0m, in \u001b[0;36mSlabGenerator.get_slab\u001b[1;34m(self, shift, tol, energy)\u001b[0m\n\u001b[0;32m   1145\u001b[0m \u001b[38;5;66;03m# Center the slab layer around the vacuum\u001b[39;00m\n\u001b[0;32m   1146\u001b[0m \u001b[38;5;28;01mif\u001b[39;00m \u001b[38;5;28mself\u001b[39m\u001b[38;5;241m.\u001b[39mcenter_slab:\n\u001b[1;32m-> 1147\u001b[0m     struct \u001b[38;5;241m=\u001b[39m center_slab(struct)\n\u001b[0;32m   1149\u001b[0m \u001b[38;5;66;03m# Reduce to primitive cell\u001b[39;00m\n\u001b[0;32m   1150\u001b[0m \u001b[38;5;28;01mif\u001b[39;00m \u001b[38;5;28mself\u001b[39m\u001b[38;5;241m.\u001b[39mprimitive:\n",
      "File \u001b[1;32md:\\Anaconda\\Lib\\site-packages\\pymatgen\\core\\surface.py:762\u001b[0m, in \u001b[0;36mcenter_slab\u001b[1;34m(slab)\u001b[0m\n\u001b[0;32m    759\u001b[0m all_indices \u001b[38;5;241m=\u001b[39m \u001b[38;5;28mlist\u001b[39m(\u001b[38;5;28mrange\u001b[39m(\u001b[38;5;28mlen\u001b[39m(slab)))\n\u001b[0;32m    761\u001b[0m \u001b[38;5;66;03m# Get a reasonable cutoff radius to sample neighbors\u001b[39;00m\n\u001b[1;32m--> 762\u001b[0m bond_dists \u001b[38;5;241m=\u001b[39m \u001b[38;5;28msorted\u001b[39m(nn[\u001b[38;5;241m1\u001b[39m] \u001b[38;5;28;01mfor\u001b[39;00m nn \u001b[38;5;129;01min\u001b[39;00m slab\u001b[38;5;241m.\u001b[39mget_neighbors(slab[\u001b[38;5;241m0\u001b[39m], \u001b[38;5;241m10\u001b[39m) \u001b[38;5;28;01mif\u001b[39;00m nn[\u001b[38;5;241m1\u001b[39m] \u001b[38;5;241m>\u001b[39m \u001b[38;5;241m0\u001b[39m)\n\u001b[0;32m    763\u001b[0m \u001b[38;5;66;03m# TODO (@DanielYang59): magic number for cutoff radius (would 3 be too large?)\u001b[39;00m\n\u001b[0;32m    764\u001b[0m cutoff_radius \u001b[38;5;241m=\u001b[39m bond_dists[\u001b[38;5;241m0\u001b[39m] \u001b[38;5;241m*\u001b[39m \u001b[38;5;241m3\u001b[39m\n",
      "File \u001b[1;32md:\\Anaconda\\Lib\\site-packages\\pymatgen\\core\\structure.py:1662\u001b[0m, in \u001b[0;36mIStructure.get_neighbors\u001b[1;34m(self, site, r, include_index, include_image)\u001b[0m\n\u001b[0;32m   1641\u001b[0m \u001b[38;5;28;01mdef\u001b[39;00m \u001b[38;5;21mget_neighbors\u001b[39m(\n\u001b[0;32m   1642\u001b[0m     \u001b[38;5;28mself\u001b[39m,\n\u001b[0;32m   1643\u001b[0m     site: PeriodicSite,\n\u001b[1;32m   (...)\u001b[0m\n\u001b[0;32m   1646\u001b[0m     include_image: \u001b[38;5;28mbool\u001b[39m \u001b[38;5;241m=\u001b[39m \u001b[38;5;28;01mFalse\u001b[39;00m,\n\u001b[0;32m   1647\u001b[0m ) \u001b[38;5;241m-\u001b[39m\u001b[38;5;241m>\u001b[39m \u001b[38;5;28mlist\u001b[39m[PeriodicNeighbor]:\n\u001b[0;32m   1648\u001b[0m \u001b[38;5;250m    \u001b[39m\u001b[38;5;124;03m\"\"\"Get all neighbors to a site within a sphere of radius r. Excludes the\u001b[39;00m\n\u001b[0;32m   1649\u001b[0m \u001b[38;5;124;03m    site itself.\u001b[39;00m\n\u001b[0;32m   1650\u001b[0m \n\u001b[1;32m   (...)\u001b[0m\n\u001b[0;32m   1660\u001b[0m \u001b[38;5;124;03m        PeriodicNeighbor\u001b[39;00m\n\u001b[0;32m   1661\u001b[0m \u001b[38;5;124;03m    \"\"\"\u001b[39;00m\n\u001b[1;32m-> 1662\u001b[0m     \u001b[38;5;28;01mreturn\u001b[39;00m \u001b[38;5;28mself\u001b[39m\u001b[38;5;241m.\u001b[39mget_all_neighbors(r, include_index\u001b[38;5;241m=\u001b[39minclude_index, include_image\u001b[38;5;241m=\u001b[39minclude_image, sites\u001b[38;5;241m=\u001b[39m[site])[\u001b[38;5;241m0\u001b[39m]\n",
      "File \u001b[1;32md:\\Anaconda\\Lib\\site-packages\\pymatgen\\core\\structure.py:1997\u001b[0m, in \u001b[0;36mIStructure.get_all_neighbors\u001b[1;34m(self, r, include_index, include_image, sites, numerical_tol)\u001b[0m\n\u001b[0;32m   1995\u001b[0m \u001b[38;5;28;01mif\u001b[39;00m sites \u001b[38;5;129;01mis\u001b[39;00m \u001b[38;5;28;01mNone\u001b[39;00m:\n\u001b[0;32m   1996\u001b[0m     sites \u001b[38;5;241m=\u001b[39m \u001b[38;5;28mself\u001b[39m\u001b[38;5;241m.\u001b[39msites\n\u001b[1;32m-> 1997\u001b[0m center_indices, points_indices, images, distances \u001b[38;5;241m=\u001b[39m \u001b[38;5;28mself\u001b[39m\u001b[38;5;241m.\u001b[39mget_neighbor_list(\n\u001b[0;32m   1998\u001b[0m     r\u001b[38;5;241m=\u001b[39mr, sites\u001b[38;5;241m=\u001b[39msites, numerical_tol\u001b[38;5;241m=\u001b[39mnumerical_tol\n\u001b[0;32m   1999\u001b[0m )\n\u001b[0;32m   2000\u001b[0m \u001b[38;5;28;01mif\u001b[39;00m \u001b[38;5;28mlen\u001b[39m(points_indices) \u001b[38;5;241m<\u001b[39m \u001b[38;5;241m1\u001b[39m:\n\u001b[0;32m   2001\u001b[0m     \u001b[38;5;28;01mreturn\u001b[39;00m [[]] \u001b[38;5;241m*\u001b[39m \u001b[38;5;28mlen\u001b[39m(sites)\n",
      "File \u001b[1;32md:\\Anaconda\\Lib\\site-packages\\pymatgen\\core\\structure.py:1782\u001b[0m, in \u001b[0;36mIStructure.get_neighbor_list\u001b[1;34m(self, r, sites, numerical_tol, exclude_self)\u001b[0m\n\u001b[0;32m   1780\u001b[0m lattice_matrix \u001b[38;5;241m=\u001b[39m np\u001b[38;5;241m.\u001b[39mascontiguousarray(\u001b[38;5;28mself\u001b[39m\u001b[38;5;241m.\u001b[39mlattice\u001b[38;5;241m.\u001b[39mmatrix, dtype\u001b[38;5;241m=\u001b[39m\u001b[38;5;28mfloat\u001b[39m)\n\u001b[0;32m   1781\u001b[0m pbc \u001b[38;5;241m=\u001b[39m np\u001b[38;5;241m.\u001b[39mascontiguousarray(\u001b[38;5;28mself\u001b[39m\u001b[38;5;241m.\u001b[39mpbc, dtype\u001b[38;5;241m=\u001b[39m\u001b[38;5;28mint\u001b[39m)\n\u001b[1;32m-> 1782\u001b[0m center_indices, points_indices, images, distances \u001b[38;5;241m=\u001b[39m find_points_in_spheres(\n\u001b[0;32m   1783\u001b[0m     cart_coords,\n\u001b[0;32m   1784\u001b[0m     site_coords,\n\u001b[0;32m   1785\u001b[0m     r\u001b[38;5;241m=\u001b[39mr,\n\u001b[0;32m   1786\u001b[0m     pbc\u001b[38;5;241m=\u001b[39mpbc,\n\u001b[0;32m   1787\u001b[0m     lattice\u001b[38;5;241m=\u001b[39mlattice_matrix,\n\u001b[0;32m   1788\u001b[0m     tol\u001b[38;5;241m=\u001b[39mnumerical_tol,\n\u001b[0;32m   1789\u001b[0m )\n\u001b[0;32m   1790\u001b[0m cond \u001b[38;5;241m=\u001b[39m np\u001b[38;5;241m.\u001b[39marray([\u001b[38;5;28;01mTrue\u001b[39;00m] \u001b[38;5;241m*\u001b[39m \u001b[38;5;28mlen\u001b[39m(center_indices))\n\u001b[0;32m   1791\u001b[0m \u001b[38;5;28;01mif\u001b[39;00m exclude_self:\n",
      "File \u001b[1;32msrc\\\\pymatgen\\\\optimization\\\\neighbors.pyx:48\u001b[0m, in \u001b[0;36mpymatgen.optimization.neighbors.find_points_in_spheres\u001b[1;34m()\u001b[0m\n",
      "\u001b[1;31mValueError\u001b[0m: Buffer dtype mismatch, expected 'const int64_t' but got 'long'"
     ]
    }
   ],
   "source": [
    "mp_id = \"mp-81\"\n",
    "struct = mpr.get_structure_by_material_id(mp_id)\n",
    "struct = SpacegroupAnalyzer(struct).get_conventional_standard_structure()\n",
    "slab = SlabGenerator(struct, miller_index=[1, 1, 1], min_slab_size=8.0,\\\n",
    "                     min_vacuum_size=15.0, center_slab=True)\n",
    "for n, slabs in enumerate(slab.get_slabs()):\n",
    "    slabs_bak = slabs.copy()\n",
    "    slabs.make_supercell([[2,0,0],\n",
    "                          [0,2,0],\n",
    "                          [0,0,1]])\n",
    "    fig = plt.figure()\n",
    "    ax = fig.add_subplot(111)\n",
    "    plot_slab(slabs, ax, adsorption_sites=True)\n",
    "    plt.savefig(str(n) + '-Au-111.png', img_format='png')\n",
    "    open('POSCAR' + mp_id + '-' + str(n), 'w').write(str(Poscar(slabs)))"
   ]
  },
  {
   "cell_type": "code",
   "execution_count": null,
   "metadata": {},
   "outputs": [],
   "source": [
    "for n, slabs in enumerate(slab.get_slabs()):\n",
    "    slabs_bak = slabs.copy()\n",
    "    slabs.make_supercell([[2,0,0],\n",
    "                          [0,2,0],\n",
    "                          [0,0,1]])\n",
    "    fig = plt.figure()\n",
    "    ax = fig.add_subplot(111)\n",
    "    plot_slab(slabs, ax, adsorption_sites=True)\n",
    "    plt.savefig(str(n) + '-Au-111.png', img_format='png')\n",
    "    open('POSCAR' + mp_id + '-' + str(n), 'w').write(str(Poscar(slabs)))\n",
    "#尝试研究一下NiP材料的数据\n",
    "mpr = MPRester(API_KEY)\n",
    "\n",
    "# Example of data collection for transition metal alloys\n",
    "data = mpr.query(criteria={\"elements\": {\"$in\": [\"P\", \"Ni\"],\"$all\":[\"P\",\"Ni\"]},'nelements' :2}, properties=[\"material_id\", \"pretty_formula\", \"structure\", \"formation_energy_per_atom\",  \"e_above_hull\",\"band_gap\"])\n"
   ]
  },
  {
   "cell_type": "code",
   "execution_count": null,
   "metadata": {},
   "outputs": [],
   "source": []
  }
 ],
 "metadata": {
  "kernelspec": {
   "display_name": "base",
   "language": "python",
   "name": "python3"
  },
  "language_info": {
   "codemirror_mode": {
    "name": "ipython",
    "version": 3
   },
   "file_extension": ".py",
   "mimetype": "text/x-python",
   "name": "python",
   "nbconvert_exporter": "python",
   "pygments_lexer": "ipython3",
   "version": "3.12.3"
  }
 },
 "nbformat": 4,
 "nbformat_minor": 2
}
