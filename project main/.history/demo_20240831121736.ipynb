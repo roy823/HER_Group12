{
 "cells": [
  {
   "cell_type": "code",
   "execution_count": null,
   "metadata": {},
   "outputs": [],
   "source": [
    "from pymatgen.analysis.adsorption import *\n",
    "from pymatgen.core.surface import Slab, SlabGenerator, generate_all_slabs, Structure, Lattice, ReconstructionGenerator\n",
    "from pymatgen.symmetry.analyzer import SpacegroupAnalyzer\n",
    "from pymatgen.core.structure import Structure\n",
    "from pymatgen.ext.matproj import MPRester\n",
    "from matplotlib import pyplot as plt\n",
    "from pymatgen.io.vasp.inputs import Poscar\n"
   ]
  },
  {
   "cell_type": "code",
   "execution_count": null,
   "metadata": {},
   "outputs": [],
   "source": [
    "\"\"\"\n",
    "功能描述：获取Materials Project的数据测试代码，需要到Materials  project官网注册账号，获取密钥\n",
    "\"\"\"\n",
    "from pymatgen.ext.matproj import MPRester\n",
    " \n",
    "API_KEY = '7cXC8xULfZusdoLODDA'  # Materials  project官网，账号注册后提供的密钥\n",
    " \n",
    "def que_p(target):  # 分子式，比如Fe2O3\n",
    "    api_res = MPRester(API_KEY)\n",
    "    data = api_res.get_data(target, data_type='vasp')\n",
    "    return data\n",
    " \n",
    "print(que_p('Fe2O3'))#正常打印数据就表示ok！\n",
    "#切割金金属（1，1，1）面\n"
   ]
  },
  {
   "cell_type": "code",
   "execution_count": null,
   "metadata": {},
   "outputs": [],
   "source": [
    "#尝试研究一下NiP材料的数据\n",
    "mpr = MPRester(API_KEY)\n",
    "\n",
    "# Example of data collection for transition metal alloys\n",
    "data = mpr.query(criteria={\"elements\": {\"$in\": [\"P\", \"Ni\"],\"$all\":[\"P\",\"Ni\"]},'nelements' :2}, properties=[\"material_id\", \"pretty_formula\", \"structure\", \"formation_energy_per_atom\",  \"e_above_hull\",\"band_gap\"])"
   ]
  },
  {
   "cell_type": "code",
   "execution_count": null,
   "metadata": {},
   "outputs": [],
   "source": [
    "\n",
    "import pandas as pd\n",
    "df = pd.concat([pd.DataFrame(data), pd.DataFrame(pd.Series(data[0]['structure'].as_dict()))], axis=1)\n",
    "df = df[df['e_above_hull']<0.1]\n",
    "\n",
    "#存储NiP的数据\n",
    "df.to_csv('NiP.csv', index=False)"
   ]
  },
  {
   "cell_type": "code",
   "execution_count": null,
   "metadata": {},
   "outputs": [],
   "source": [
    "for n, slabs in enumerate(slab.get_slabs()):\n",
    "    slabs_bak = slabs.copy()\n",
    "    slabs.make_supercell([[2,0,0],\n",
    "                          [0,2,0],\n",
    "                          [0,0,1]])\n",
    "    fig = plt.figure()\n",
    "    ax = fig.add_subplot(111)\n",
    "    plot_slab(slabs, ax, adsorption_sites=True)\n",
    "    plt.savefig(str(n) + '-Au-111.png', img_format='png')\n",
    "    open('POSCAR' + mp_id + '-' + str(n), 'w').write(str(Poscar(slabs)))\n",
    "#尝试研究一下NiP材料的数据\n",
    "mpr = MPRester(API_KEY)\n",
    "\n",
    "# Example of data collection for transition metal alloys\n",
    "data = mpr.query(criteria={\"elements\": {\"$in\": [\"P\", \"Ni\"],\"$all\":[\"P\",\"Ni\"]},'nelements' :2}, properties=[\"material_id\", \"pretty_formula\", \"structure\", \"formation_energy_per_atom\",  \"e_above_hull\",\"band_gap\"])\n"
   ]
  },
  {
   "cell_type": "code",
   "execution_count": null,
   "metadata": {},
   "outputs": [],
   "source": []
  }
 ],
 "metadata": {
  "kernelspec": {
   "display_name": "base",
   "language": "python",
   "name": "python3"
  },
  "language_info": {
   "codemirror_mode": {
    "name": "ipython",
    "version": 3
   },
   "file_extension": ".py",
   "mimetype": "text/x-python",
   "name": "python",
   "nbconvert_exporter": "python",
   "pygments_lexer": "ipython3",
   "version": "3.12.3"
  }
 },
 "nbformat": 4,
 "nbformat_minor": 2
}
